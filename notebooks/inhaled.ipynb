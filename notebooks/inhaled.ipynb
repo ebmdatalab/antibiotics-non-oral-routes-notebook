{
 "cells": [
  {
   "cell_type": "code",
   "execution_count": 1,
   "metadata": {},
   "outputs": [],
   "source": [
    "#import libraries required for analysis\n",
    "import pandas as pd\n",
    "import numpy as np\n",
    "import matplotlib\n",
    "import matplotlib.pyplot as plt\n",
    "from ebmdatalab import bq\n",
    "from ebmdatalab import charts\n",
    "from ebmdatalab import maps"
   ]
  },
  {
   "cell_type": "code",
   "execution_count": 2,
   "metadata": {},
   "outputs": [
    {
     "name": "stderr",
     "output_type": "stream",
     "text": [
      "Downloading: 100%|██████████| 2052/2052 [00:00<00:00, 4042.49rows/s]\n"
     ]
    },
    {
     "data": {
      "text/html": [
       "<div>\n",
       "<style scoped>\n",
       "    .dataframe tbody tr th:only-of-type {\n",
       "        vertical-align: middle;\n",
       "    }\n",
       "\n",
       "    .dataframe tbody tr th {\n",
       "        vertical-align: top;\n",
       "    }\n",
       "\n",
       "    .dataframe thead th {\n",
       "        text-align: right;\n",
       "    }\n",
       "</style>\n",
       "<table border=\"1\" class=\"dataframe\">\n",
       "  <thead>\n",
       "    <tr style=\"text-align: right;\">\n",
       "      <th></th>\n",
       "      <th>pct</th>\n",
       "      <th>month</th>\n",
       "      <th>bnf_name</th>\n",
       "      <th>bnf_code</th>\n",
       "      <th>items</th>\n",
       "      <th>cost</th>\n",
       "    </tr>\n",
       "  </thead>\n",
       "  <tbody>\n",
       "    <tr>\n",
       "      <th>0</th>\n",
       "      <td>00C</td>\n",
       "      <td>2010-12-01</td>\n",
       "      <td>Relenza_Disk 5mg &amp; Diskhaler</td>\n",
       "      <td>0503040A0BBAAAA</td>\n",
       "      <td>1</td>\n",
       "      <td>15.10</td>\n",
       "    </tr>\n",
       "    <tr>\n",
       "      <th>1</th>\n",
       "      <td>00C</td>\n",
       "      <td>2011-01-01</td>\n",
       "      <td>Zanamivir_Pdr For Inh 5mg Disk + Dev</td>\n",
       "      <td>0503040A0AAAAAA</td>\n",
       "      <td>1</td>\n",
       "      <td>15.09</td>\n",
       "    </tr>\n",
       "    <tr>\n",
       "      <th>2</th>\n",
       "      <td>00C</td>\n",
       "      <td>2014-11-01</td>\n",
       "      <td>Tobi_Podhaler Pdr Inh Cap 28mg + Dev</td>\n",
       "      <td>0501040U0BCABAL</td>\n",
       "      <td>1</td>\n",
       "      <td>1650.93</td>\n",
       "    </tr>\n",
       "    <tr>\n",
       "      <th>3</th>\n",
       "      <td>00C</td>\n",
       "      <td>2015-01-01</td>\n",
       "      <td>Zanamivir_Pdr For Inh 5mg Disk + Dev</td>\n",
       "      <td>0503040A0AAAAAA</td>\n",
       "      <td>1</td>\n",
       "      <td>30.21</td>\n",
       "    </tr>\n",
       "    <tr>\n",
       "      <th>4</th>\n",
       "      <td>00C</td>\n",
       "      <td>2015-09-01</td>\n",
       "      <td>Tobramycin_Pdr Inh Cap 28mg + Dev</td>\n",
       "      <td>0501040U0AAALAL</td>\n",
       "      <td>1</td>\n",
       "      <td>1656.19</td>\n",
       "    </tr>\n",
       "  </tbody>\n",
       "</table>\n",
       "</div>"
      ],
      "text/plain": [
       "   pct      month                              bnf_name         bnf_code  \\\n",
       "0  00C 2010-12-01          Relenza_Disk 5mg & Diskhaler  0503040A0BBAAAA   \n",
       "1  00C 2011-01-01  Zanamivir_Pdr For Inh 5mg Disk + Dev  0503040A0AAAAAA   \n",
       "2  00C 2014-11-01  Tobi_Podhaler Pdr Inh Cap 28mg + Dev  0501040U0BCABAL   \n",
       "3  00C 2015-01-01  Zanamivir_Pdr For Inh 5mg Disk + Dev  0503040A0AAAAAA   \n",
       "4  00C 2015-09-01     Tobramycin_Pdr Inh Cap 28mg + Dev  0501040U0AAALAL   \n",
       "\n",
       "   items     cost  \n",
       "0      1    15.10  \n",
       "1      1    15.09  \n",
       "2      1  1650.93  \n",
       "3      1    30.21  \n",
       "4      1  1656.19  "
      ]
     },
     "execution_count": 2,
     "metadata": {},
     "output_type": "execute_result"
    }
   ],
   "source": [
    "sql = '''\n",
    "SELECT\n",
    "    pct,\n",
    "    CAST(month AS DATE) AS month,\n",
    "    bnf_name,\n",
    "    bnf_code,\n",
    "    SUM(items) AS items,\n",
    "    SUM(actual_cost) AS cost\n",
    "FROM hscic.normalised_prescribing_standard presc\n",
    "INNER JOIN hscic.practices pract ON presc.practice = pract.code\n",
    "INNER JOIN\n",
    "  hscic.ccgs AS ccg\n",
    "ON\n",
    "  presc.pct=ccg.code\n",
    "WHERE\n",
    "    ccg.org_type='CCG' AND\n",
    "    pract.setting = 4 AND\n",
    "    presc.bnf_code IN (\n",
    "        SELECT DISTINCT(bnf_code)\n",
    "        FROM ebmdatalab.measures.dmd_objs_with_form_route\n",
    "        WHERE form_route IN ('pressurizedinhalation.inhalation', 'powderinhalation.inhalation')\n",
    "        )\n",
    "AND bnf_code LIKE \"050%\"\n",
    "GROUP BY pct, month, bnf_name, bnf_code\n",
    "ORDER BY pct, month\n",
    "'''\n",
    "\n",
    "df_inh_abx = bq.cached_read(sql, csv_path='df_inh_abx.csv')\n",
    "df_inh_abx['month'] = df_inh_abx['month'].astype('datetime64[ns]')\n",
    "df_inh_abx.head()"
   ]
  },
  {
   "cell_type": "code",
   "execution_count": 4,
   "metadata": {},
   "outputs": [
    {
     "ename": "IndentationError",
     "evalue": "unindent does not match any outer indentation level (<tokenize>, line 5)",
     "output_type": "error",
     "traceback": [
      "\u001b[0;36m  File \u001b[0;32m\"<tokenize>\"\u001b[0;36m, line \u001b[0;32m5\u001b[0m\n\u001b[0;31m    FROM hscic.normalised_prescribing_standard\u001b[0m\n\u001b[0m    ^\u001b[0m\n\u001b[0;31mIndentationError\u001b[0m\u001b[0;31m:\u001b[0m unindent does not match any outer indentation level\n"
     ]
    }
   ],
   "source": [
    "SELECT\n",
    "     CAST(month AS DATE) AS month,\n",
    "     practice AS practice_id,\n",
    "     SUM(items) AS denominator\n",
    " FROM hscic.normalised_prescribing_standard\n",
    " WHERE bnf_code IN (   SELECT DISTINCT(bnf_code)   FROM measures.dmd_objs_with_form_route   WHERE form_route IN ('pressurizedinhalation.inhalation', 'powderinhalation.inhalation')   AND bnf_code LIKE '03%'    AND bnf_code NOT LIKE '0301011R0%'  )\n",
    " GROUP BY month, practice_id"
   ]
  }
 ],
 "metadata": {
  "jupytext": {
   "cell_metadata_filter": "all",
   "notebook_metadata_filter": "all,-language_info",
   "text_representation": {
    "extension": ".py",
    "format_name": "light",
    "format_version": "1.5",
    "jupytext_version": "1.3.3"
   }
  },
  "kernelspec": {
   "display_name": "Python 3",
   "language": "python",
   "name": "python3"
  },
  "language_info": {
   "codemirror_mode": {
    "name": "ipython",
    "version": 3
   },
   "file_extension": ".py",
   "mimetype": "text/x-python",
   "name": "python",
   "nbconvert_exporter": "python",
   "pygments_lexer": "ipython3",
   "version": "3.8.1"
  }
 },
 "nbformat": 4,
 "nbformat_minor": 4
}
